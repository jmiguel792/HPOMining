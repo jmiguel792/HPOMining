{
 "cells": [
  {
   "cell_type": "markdown",
   "metadata": {},
   "source": [
    "## Resumen analítico del corpus"
   ]
  },
  {
   "cell_type": "markdown",
   "metadata": {},
   "source": [
    "#### Importar librerias"
   ]
  },
  {
   "cell_type": "code",
   "execution_count": null,
   "metadata": {},
   "outputs": [],
   "source": [
    "import os\n",
    "import nltk\n",
    "from nltk.corpus.reader.plaintext import PlaintextCorpusReader"
   ]
  },
  {
   "cell_type": "markdown",
   "metadata": {},
   "source": [
    "### Análisis del corpus"
   ]
  },
  {
   "cell_type": "code",
   "execution_count": null,
   "metadata": {},
   "outputs": [],
   "source": [
    "# Ruta donde se localizan los textos\n",
    "textos = 'path_to_textos'\n",
    "# Objeto de texto plano generado para el análisis del corpus\n",
    "corpus = PlaintextCorpusReader(textos, '.*')\n",
    "# El total de documentos del corpus\n",
    "fileids = corpus.fileids()"
   ]
  },
  {
   "cell_type": "markdown",
   "metadata": {},
   "source": [
    "#### 1. Número total de documentos procesados"
   ]
  },
  {
   "cell_type": "code",
   "execution_count": null,
   "metadata": {},
   "outputs": [],
   "source": [
    "# Este paso sería identico a len(fileids)\n",
    "# Generar una lista del contenido de la carpeta textos\n",
    "l_textos = os.listdir(textos)\n",
    "# Número de documentos de la lista\n",
    "len(l_textos)"
   ]
  },
  {
   "cell_type": "markdown",
   "metadata": {},
   "source": [
    "#### 2. Número total de tokens"
   ]
  },
  {
   "cell_type": "code",
   "execution_count": null,
   "metadata": {},
   "outputs": [],
   "source": [
    "# Utilizar la función words para el cálculo de tokens\n",
    "words = len(corpus.words(fileids))\n",
    "print(words)"
   ]
  },
  {
   "cell_type": "markdown",
   "metadata": {},
   "source": [
    "#### 3. Número total de frases"
   ]
  },
  {
   "cell_type": "code",
   "execution_count": null,
   "metadata": {},
   "outputs": [],
   "source": [
    "# Utilizar la función sents para el cálculo de frases\n",
    "sentences = len(corpus.sents(fileids))\n",
    "print(sentences)"
   ]
  },
  {
   "cell_type": "markdown",
   "metadata": {},
   "source": [
    "#### 4. Número total de párrafos"
   ]
  },
  {
   "cell_type": "code",
   "execution_count": null,
   "metadata": {},
   "outputs": [],
   "source": [
    "# Utilizar la función paras par el cálculo de párrafos\n",
    "paras = len(corpus.paras(fileids))\n",
    "print(paras)"
   ]
  },
  {
   "cell_type": "markdown",
   "metadata": {},
   "source": [
    "#### 5. Número total de tokens diferentes"
   ]
  },
  {
   "cell_type": "code",
   "execution_count": null,
   "metadata": {},
   "outputs": [],
   "source": [
    "# Hacer un set de words\n",
    "words_unique = len(set(words))\n",
    "print(words_unique)"
   ]
  },
  {
   "cell_type": "markdown",
   "metadata": {},
   "source": [
    "#### 6. Media de tokens por informe"
   ]
  },
  {
   "cell_type": "code",
   "execution_count": null,
   "metadata": {},
   "outputs": [],
   "source": [
    "# Adquirir el len de tokens/fileid\n",
    "tokens_informe = []\n",
    "for i in range(0, len(fileids)):\n",
    "    words = corpus.words(fileids[i])\n",
    "    words = set(words)\n",
    "    tokens_informe.append(len(words))\n",
    "\n",
    "# Hacer la media de los len de tokens respecto del total de fileids\n",
    "media = sum(tokens_informe)/len(fileids)\n",
    "print(media)"
   ]
  },
  {
   "cell_type": "markdown",
   "metadata": {},
   "source": [
    "#### 7. Media de frases por informe"
   ]
  },
  {
   "cell_type": "code",
   "execution_count": null,
   "metadata": {},
   "outputs": [],
   "source": [
    "# Adquirir el len de las frases/fileid\n",
    "sen_informe = []\n",
    "for i in range(0, len(fileids)):\n",
    "    sen = corpus.sents(fileids[i])\n",
    "    sen_informe.append(len(sen))\n",
    "\n",
    "# Hacer la media de los len de las frases respecto del total de fileids\n",
    "media_sen = sum(sen_informe)/len(fileids)\n",
    "print(media_sen)"
   ]
  }
 ],
 "metadata": {
  "kernelspec": {
   "display_name": "Python 3",
   "language": "python",
   "name": "python3"
  },
  "language_info": {
   "codemirror_mode": {
    "name": "ipython",
    "version": 3
   },
   "file_extension": ".py",
   "mimetype": "text/x-python",
   "name": "python",
   "nbconvert_exporter": "python",
   "pygments_lexer": "ipython3",
   "version": "3.6.6"
  }
 },
 "nbformat": 4,
 "nbformat_minor": 2
}
