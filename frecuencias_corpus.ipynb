{
 "cells": [
  {
   "cell_type": "code",
   "execution_count": 1,
   "metadata": {},
   "outputs": [],
   "source": [
    "# Importar librerías\n",
    "import os\n",
    "import nltk\n",
    "from nltk.corpus.reader.plaintext import PlaintextCorpusReader"
   ]
  },
  {
   "cell_type": "code",
   "execution_count": 2,
   "metadata": {},
   "outputs": [
    {
     "data": {
      "text/plain": [
       "26707"
      ]
     },
     "execution_count": 2,
     "metadata": {},
     "output_type": "execute_result"
    }
   ],
   "source": [
    "# Número de documentos procesados\n",
    "textos = 'path_to_textos'\n",
    "p_txt = os.listdir(textos)\n",
    "len(p_txt)"
   ]
  },
  {
   "cell_type": "code",
   "execution_count": 3,
   "metadata": {},
   "outputs": [],
   "source": [
    "# Plaintext object for the corpus directory\n",
    "corpus = PlaintextCorpusReader(textos, '.*')\n",
    "fileids = corpus.fileids()"
   ]
  },
  {
   "cell_type": "code",
   "execution_count": 6,
   "metadata": {},
   "outputs": [
    {
     "data": {
      "text/plain": [
       "23394717"
      ]
     },
     "execution_count": 6,
     "metadata": {},
     "output_type": "execute_result"
    }
   ],
   "source": [
    "# Número total de tokens\n",
    "words = len(corpus.words(fileids))\n",
    "print(words)"
   ]
  },
  {
   "cell_type": "code",
   "execution_count": 8,
   "metadata": {},
   "outputs": [
    {
     "data": {
      "text/plain": [
       "747270"
      ]
     },
     "execution_count": 8,
     "metadata": {},
     "output_type": "execute_result"
    }
   ],
   "source": [
    "# Número total de tokens diferentes\n",
    "words_unique = len(set(words))\n",
    "print(words_unique)"
   ]
  },
  {
   "cell_type": "code",
   "execution_count": 9,
   "metadata": {},
   "outputs": [
    {
     "data": {
      "text/plain": [
       "1860776"
      ]
     },
     "execution_count": 9,
     "metadata": {},
     "output_type": "execute_result"
    }
   ],
   "source": [
    "# Número total de frases\n",
    "sentences = len(corpus.sents(fileids))\n",
    "print(sentences)"
   ]
  },
  {
   "cell_type": "code",
   "execution_count": 10,
   "metadata": {},
   "outputs": [
    {
     "name": "stdout",
     "output_type": "stream",
     "text": [
      "1358677\n"
     ]
    }
   ],
   "source": [
    "# Número total de párrafos\n",
    "paras = len(corpus.paras(fileids))\n",
    "print(paras)"
   ]
  },
  {
   "cell_type": "code",
   "execution_count": 20,
   "metadata": {},
   "outputs": [
    {
     "name": "stdout",
     "output_type": "stream",
     "text": [
      "3.19 %\n"
     ]
    }
   ],
   "source": [
    "# Diferencia porcentual\n",
    "porcentaje = (round((747270/23394717)*100,2))\n",
    "print(porcentaje,'%')"
   ]
  },
  {
   "cell_type": "code",
   "execution_count": 10,
   "metadata": {},
   "outputs": [],
   "source": [
    "# Adquirir todos len por cada informe para luego hacer una media de tokens\n",
    "tokens_informe = []\n",
    "for i in range(0, len(fileids)):\n",
    "    words = corpus.words(fileids[i])\n",
    "    words = set(words)\n",
    "    tokens_informe.append(len(words))"
   ]
  },
  {
   "cell_type": "code",
   "execution_count": 17,
   "metadata": {},
   "outputs": [
    {
     "name": "stdout",
     "output_type": "stream",
     "text": [
      "374.7174897966825\n"
     ]
    }
   ],
   "source": [
    "media = sum(tokens_informe)/len(fileids)\n",
    "print(media)"
   ]
  },
  {
   "cell_type": "code",
   "execution_count": 19,
   "metadata": {},
   "outputs": [],
   "source": [
    "#Adquirir todos los len de las sentences por cada informe para luego hacer la media de frases\n",
    "sen_informe = []\n",
    "for i in range(0, len(fileids)):\n",
    "    sen = corpus.sents(fileids[i])\n",
    "    sen_informe.append(len(sen))"
   ]
  },
  {
   "cell_type": "code",
   "execution_count": 22,
   "metadata": {},
   "outputs": [
    {
     "name": "stdout",
     "output_type": "stream",
     "text": [
      "69.67371850076759\n"
     ]
    }
   ],
   "source": [
    "media_sen = sum(sen_informe)/len(fileids)\n",
    "print(media_sen)"
   ]
  }
 ],
 "metadata": {
  "kernelspec": {
   "display_name": "Python 3",
   "language": "python",
   "name": "python3"
  },
  "language_info": {
   "codemirror_mode": {
    "name": "ipython",
    "version": 3
   },
   "file_extension": ".py",
   "mimetype": "text/x-python",
   "name": "python",
   "nbconvert_exporter": "python",
   "pygments_lexer": "ipython3",
   "version": "3.6.6"
  }
 },
 "nbformat": 4,
 "nbformat_minor": 2
}
