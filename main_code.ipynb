{
 "cells": [
  {
   "cell_type": "markdown",
   "metadata": {},
   "source": [
    "## CODIGO PRINCIPAL"
   ]
  },
  {
   "cell_type": "markdown",
   "metadata": {},
   "source": [
    "En este notebook se incluyen las ejecuciones de los programas desarrollados en el proyecto de forma secuencial.\n",
    "\n",
    "En concreto este código está dedicado a los capítulos del trabajo indicados a continuación:\n",
    "\n",
    "    3. Sistema, diseño y desarrollo\n",
    "    4. Experimentos realizados y resultados"
   ]
  },
  {
   "cell_type": "markdown",
   "metadata": {},
   "source": [
    "#### Importar funciones y módulos requeridos\n",
    "\n",
    "El módulo *nimgenetics.py* contiene las funciones necesarias para ejecutar este código"
   ]
  },
  {
   "cell_type": "code",
   "execution_count": null,
   "metadata": {},
   "outputs": [],
   "source": [
    "import os\n",
    "import sys\n",
    "\n",
    "sys.path.append('./my_module/')\n",
    "import nimgenetics"
   ]
  },
  {
   "cell_type": "markdown",
   "metadata": {},
   "source": [
    "### 3. SISTEMA, DISEÑO Y DESARROLLO\n",
    "\n",
    "     \n",
    "Directorios importantes:\n",
    "     \n",
    "    - folder_path: carpeta donde se ubican los informes de NIMGenetics.\n",
    "    - folder_result: carpeta donde se irán guardando los resultados de las ejecuciones de los programas.\n",
    "    - pathI: path de la carpeta \"Identificados\" de los informes que cumplen el patrón de selección.\n",
    "    - image_path: carpeta donde se almacenan las imágenes generadas a partir de los informes.\n",
    "    - textos: carpeta donde se almacenan los textos generados a partir de las imágenes."
   ]
  },
  {
   "cell_type": "code",
   "execution_count": null,
   "metadata": {},
   "outputs": [],
   "source": [
    "folder_path = 'path_to_folder_root'\n",
    "folder_result = 'path_to_folder_result'\n",
    "pathI = 'path_to_folder_identificados'\n",
    "image_path = 'path_to_images'"
   ]
  },
  {
   "cell_type": "markdown",
   "metadata": {},
   "source": [
    "    - 3.2 Obtención de informes clínicos de Gestlab\n",
    "      Informes filtrados y renombrados\n",
    "    \n",
    "        - 3.2.1 Mapeo de los informes localizados en folder_path: load_files.\n",
    "          La función load_files es utilizada para mapear los informes (PDF) dentro de folder_path.\n"
   ]
  },
  {
   "cell_type": "code",
   "execution_count": null,
   "metadata": {},
   "outputs": [],
   "source": [
    "# l_path contiene el path absoluto de todos los informes\n",
    "l_path = nimgenetics.load_files(root_dir=folder_path)[0]\n",
    "# l_pdf es el mapeo individual de cada informe\n",
    "l_pdf = nimgenetics.load_files(root_dir=folder_path)[1]"
   ]
  },
  {
   "cell_type": "markdown",
   "metadata": {},
   "source": [
    "        - 3.2.2 Obtención de los identificadores reales de los informes: getIDs.\n",
    "          Consulta sql a gestlab para obtener los identificadores reales."
   ]
  },
  {
   "cell_type": "code",
   "execution_count": null,
   "metadata": {},
   "outputs": [],
   "source": [
    "# id_peticion es una lista con los ID reales obtenidos tras la decodificación hexadecimal\n",
    "id_peticion = []\n",
    "for pdf in l_pdf:\n",
    "    # split por guion bajo\n",
    "    s_pdf = pdf.split('_')\n",
    "    # transformación del segundo componente en hexadecimal del identificador\n",
    "    hex_id = int(s_pdf[1],16)\n",
    "    id_peticion.append(hex_id)\n",
    "\n",
    "# ejecución de la función getIDs\n",
    "r_id = nimgenetics.getIDs(id_list=id_peticion)"
   ]
  },
  {
   "cell_type": "markdown",
   "metadata": {},
   "source": [
    "        - 3.2.3 Almacenamiento de los informes con su ID correcto: identifiedPDF, emptyPDF.\n",
    "          Selección de informes que cumplen un patrón específico."
   ]
  },
  {
   "cell_type": "code",
   "execution_count": null,
   "metadata": {},
   "outputs": [],
   "source": [
    "# Generar una lista que almacene todos los identificadores provenientes de r_id\n",
    "# l_names a diferencia de la anterior no es una lista de listas\n",
    "l_names = []   \n",
    "for row in r_id:\n",
    "    try:\n",
    "        # Primer bloque: extraer identificadores que cumplan la siguiente estructura\n",
    "        l_names.append(row[0][0])\n",
    "    except:\n",
    "        # Segundo bloque: identificadores que devuelven elementos vacios\n",
    "        # Estos informes se almacenarán con su identificador hexadecimal original\n",
    "        s_row = str(row)\n",
    "        if s_row == '[]':\n",
    "            # Almacenamos en l_names los identificadores reemplazados con el literal 'sin_id'\n",
    "            sr_row = s_row.replace('[]', 'sin_id')\n",
    "            l_names.append(sr_row)\n",
    "\n",
    "\n",
    "# Función utilizada para almacenar los informes que cumplen un patrón de selección pre-establecido\n",
    "# También se almacenan los informes que están repetidos y los descartados que no cumplen el patrón\n",
    "# con la finalidad de no perder información\n",
    "nimgenetics.identifiedPDF(folder_path=folder_result, list_id=l_names, list_path=l_path)\n",
    "\n",
    "# Función para almacenar los informes cuyo identificador no ha sido recuperado de la base de datos\n",
    "# Estos informes son guardados con el identificador hexadecimal original\n",
    "nimgenetics.emptyPDF(folder_path=folder_result, list_id=l_names, list_path=l_path, list_pdf=l_pdf)"
   ]
  },
  {
   "cell_type": "markdown",
   "metadata": {},
   "source": [
    "    - 3.3 Conversión de los informes a texto plano para la extracción de terminología médica"
   ]
  },
  {
   "cell_type": "code",
   "execution_count": null,
   "metadata": {},
   "outputs": [],
   "source": [
    "# Utilizar el módulo os para generar una lista con el contenido del directorio pathI\n",
    "l_I = os.listdir(pathI)\n",
    "# pdfPath contiene el path absoluto de todos los pdf la cual es necesaria para ejecutar pdfToImage\n",
    "pdfPath = []\n",
    "for pdf in l_I:\n",
    "    pdfPath.append(os.path.join(pathI, pdf))"
   ]
  },
  {
   "cell_type": "markdown",
   "metadata": {},
   "source": [
    "        - 3.3.1 Generación de imágenes en formato PNG a partir de los informes escaneados: pdfToImage"
   ]
  },
  {
   "cell_type": "code",
   "execution_count": null,
   "metadata": {},
   "outputs": [],
   "source": [
    "# Ejecución de la función pdfToImage\n",
    "nimgenetics.pdfToImage(f_path=folder_result, pdf_list=pdfPath)"
   ]
  },
  {
   "cell_type": "markdown",
   "metadata": {},
   "source": [
    "        - 3.3.2 Generación de texto plano a partir de imágenes PNG: makeCorpus"
   ]
  },
  {
   "cell_type": "code",
   "execution_count": null,
   "metadata": {},
   "outputs": [],
   "source": [
    "# Ejecución de la función makeCorpus la cual integra en su código el programa ocrToImage\n",
    "# Necesario image_path como parámetro para la correcta ejecución de la función\n",
    "# El resultado de este proceso guarda los resultados en la carpeta textos\n",
    "nimgenetics.makeCorpus(f_path=folder_result, image_path=image_path)"
   ]
  },
  {
   "cell_type": "markdown",
   "metadata": {},
   "source": [
    "### 4. EXPERIMENTOS REALIZADOS Y RESULTADOS\n",
    "\n",
    "Directorios importantes:\n",
    "\n",
    "    - cutext_results: carpeta que incluye los resultados de la ejecución de CUTEXT.\n",
    "    - cutext_corpus: carpeta que alberga el corpus elaborado al procesar los resultados de CUTEXT."
   ]
  },
  {
   "cell_type": "code",
   "execution_count": null,
   "metadata": {},
   "outputs": [],
   "source": [
    "# utilizar el path donde ubican los textos (3.3.2) y generar una lista con el contenido de la misma\n",
    "l_textos = os.listdir(textos)\n",
    "# path_textos contiene el path absoluto de los textos\n",
    "path_textos = []\n",
    "for file in l_textos:\n",
    "    path_textos.append(os.path.join(textos, file))"
   ]
  },
  {
   "cell_type": "markdown",
   "metadata": {},
   "source": [
    "    - 4.2 Extracción de terminología mediante CUTEXT: getCutextResults"
   ]
  },
  {
   "cell_type": "code",
   "execution_count": null,
   "metadata": {},
   "outputs": [],
   "source": [
    "# path a la carpeta in de cutext\n",
    "cutext_in = 'path_to_cutext_in_folder'\n",
    "# path del output generado por cutext\n",
    "out = 'path_to_cutext_output_folder'\n",
    "# El output de cutext se almacenará en cutext_results\n",
    "# ejecución de la función que integra la funcionalidad de cutext\n",
    "nimgenetics.getCutextResults(cutext_in=cutext_in, textos_ori=path_textos, old=out, new=cutext_results)"
   ]
  },
  {
   "cell_type": "markdown",
   "metadata": {},
   "source": [
    "        - 4.2.1 Elaboración de un corpus final a partir de los resultados Cutext: cutextCorpus"
   ]
  },
  {
   "cell_type": "code",
   "execution_count": null,
   "metadata": {},
   "outputs": [],
   "source": [
    "# utilizar el contenido de cutext_results para construir una lista cutext\n",
    "cutext = os.listdir(cutext_results)\n",
    "# path absoluto de los resultados de cutext\n",
    "l_cutext = []\n",
    "for file in cutext:\n",
    "    l_cutext.append(os.path.join(cutext_results, file))\n",
    "\n",
    "# ejecución del programa que genera el corpus de cutext\n",
    "# El resultado se almacena en cutext_corpus\n",
    "nimgenetics.cutextCorpus(lista_cutext=l_cutext, path_to_words=cutext_corpus)"
   ]
  }
 ],
 "metadata": {
  "kernelspec": {
   "display_name": "Python 3",
   "language": "python",
   "name": "python3"
  },
  "language_info": {
   "codemirror_mode": {
    "name": "ipython",
    "version": 3
   },
   "file_extension": ".py",
   "mimetype": "text/x-python",
   "name": "python",
   "nbconvert_exporter": "python",
   "pygments_lexer": "ipython3",
   "version": "3.6.6"
  }
 },
 "nbformat": 4,
 "nbformat_minor": 2
}
