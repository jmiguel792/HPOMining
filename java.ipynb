{
 "cells": [
  {
   "cell_type": "code",
   "execution_count": 1,
   "metadata": {},
   "outputs": [],
   "source": [
    "# codigo para obtener los datos de cutext\n",
    "# Automatizar el proceso\n",
    "# Estar muy pendiente de los path que se indican para que los copia-pega se hagan correctamente\n",
    "# La pregunta aquí es la siguiente: ¿Qué textos utilizar, los cleaned o los raw?"
   ]
  },
  {
   "cell_type": "code",
   "execution_count": 1,
   "metadata": {},
   "outputs": [],
   "source": [
    "import os\n",
    "import shutil"
   ]
  },
  {
   "cell_type": "code",
   "execution_count": 2,
   "metadata": {},
   "outputs": [],
   "source": [
    "#obtener los path de los txt desde su carpeta\n",
    "# - utilizamos en primera instancia los raw texts\n",
    "# - también podemos generar resultados para los c_texts si el proceso no es muy costoso a nivel de tiempo\n",
    "\n",
    "textos = '/Users/jmiguel/Resultados_gestlab/txt_folder/textos/'\n",
    "l_textos = os.listdir(textos)\n",
    "path_textos = []\n",
    "for file in l_textos:\n",
    "    path_textos.append(os.path.join(textos, file))"
   ]
  },
  {
   "cell_type": "code",
   "execution_count": 3,
   "metadata": {},
   "outputs": [],
   "source": [
    "#paths\n",
    "cutext_in = '/Users/jmiguel/Documents/TEXT_MINING/planTL/CUTEXT-master/cutext/in/'\n",
    "out = '/Users/jmiguel/Documents/TEXT_MINING/planTL/CUTEXT-master/cutext/out/fileTextHashTerms/terms_raw.txt'\n",
    "cutext_results = '/Users/jmiguel/Resultados_gestlab/cutext_results/'"
   ]
  },
  {
   "cell_type": "code",
   "execution_count": 4,
   "metadata": {},
   "outputs": [
    {
     "data": {
      "text/plain": [
       "18898"
      ]
     },
     "execution_count": 4,
     "metadata": {},
     "output_type": "execute_result"
    }
   ],
   "source": [
    "path_textos.index('/Users/jmiguel/Resultados_gestlab/txt_folder/textos/18NR09464.txt')"
   ]
  },
  {
   "cell_type": "code",
   "execution_count": 7,
   "metadata": {},
   "outputs": [],
   "source": [
    "# The programm has been designed by the following steps due to:\n",
    "# - we are using cutext through the jar file\n",
    "# - cutext removes the file processed, so we need to work with copies in order to not losing the original one\n",
    "# - furthermore it is needed to be located in \"cutext/in\" folder, otherwise cutext will not run correctly\n",
    "\n",
    "def getCutextResults(cutext_in, textos_ori, old, new):\n",
    "    #go to cutext in folder\n",
    "    os.chdir(cutext_in)\n",
    "    #make the process automatic\n",
    "    for i in range(0, len(textos_ori)):\n",
    "        #copy the file to in folder\n",
    "        shutil.copy(textos_ori[i], cutext_in)\n",
    "        #execute the command\n",
    "        command = 'java -jar /Users/jmiguel/Documents/TEXT_MINING/planTL/CUTEXT-master/cutext/main/cutext.jar -TM \\\n",
    "                   -generateTextFile true -inputFile \\\n",
    "                   /Users/jmiguel/Documents/TEXT_MINING/planTL/CUTEXT-master/cutext/in/{}' \\\n",
    "                   .format(textos_ori[i].split('/')[-1])\n",
    "        os.system(command=command)\n",
    "        #copy the cutext results to a different folder\n",
    "        shutil.move(old, new+textos_ori[i].split('/')[-1])"
   ]
  },
  {
   "cell_type": "code",
   "execution_count": 8,
   "metadata": {},
   "outputs": [],
   "source": [
    "getCutextResults(cutext_in=cutext_in, textos_ori=path_textos, old=out, new=cutext_results)"
   ]
  },
  {
   "cell_type": "code",
   "execution_count": 5,
   "metadata": {},
   "outputs": [],
   "source": [
    "# para hacerlo individual con un infile particular\n",
    "os.chdir(cutext_in)\n",
    "shutil.copy(path_textos[18898], cutext_in)\n",
    "command = 'java -jar /Users/jmiguel/Documents/TEXT_MINING/planTL/CUTEXT-master/cutext/main/cutext.jar -TM \\\n",
    "           -generateTextFile true -inputFile \\\n",
    "           /Users/jmiguel/Documents/TEXT_MINING/planTL/CUTEXT-master/cutext/in/18NR09464.txt'\n",
    "os.system(command=command)\n",
    "shutil.move(out, cutext_results+path_textos[18898].split('/')[-1])"
   ]
  }
 ],
 "metadata": {
  "kernelspec": {
   "display_name": "Python 3",
   "language": "python",
   "name": "python3"
  },
  "language_info": {
   "codemirror_mode": {
    "name": "ipython",
    "version": 3
   },
   "file_extension": ".py",
   "mimetype": "text/x-python",
   "name": "python",
   "nbconvert_exporter": "python",
   "pygments_lexer": "ipython3",
   "version": "3.6.6"
  }
 },
 "nbformat": 4,
 "nbformat_minor": 2
}
