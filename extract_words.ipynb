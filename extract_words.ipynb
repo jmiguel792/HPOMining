{
 "cells": [
  {
   "cell_type": "code",
   "execution_count": 1,
   "metadata": {},
   "outputs": [],
   "source": [
    "import codecs\n",
    "import itertools\n",
    "import os"
   ]
  },
  {
   "cell_type": "code",
   "execution_count": 2,
   "metadata": {},
   "outputs": [],
   "source": [
    "# paths al mega-diccionario y a infiles\n",
    "megadict = '/Users/jmiguel/Downloads/MegaDiccionario.txt'\n",
    "extracted = '/Users/jmiguel/Resultados_gestlab/extraccion/merge_results/'"
   ]
  },
  {
   "cell_type": "code",
   "execution_count": 3,
   "metadata": {},
   "outputs": [],
   "source": [
    "# comprobar los len de los raw text y los cutext results\n",
    "textos = os.listdir('/Users/jmiguel/Resultados_gestlab/txt_folder/textos/')\n",
    "textos_p = '/Users/jmiguel/Resultados_gestlab/txt_folder/textos/'\n",
    "cutext = os.listdir('/Users/jmiguel/Resultados_gestlab/cutext_results/')\n",
    "cutext_p = '/Users/jmiguel/Resultados_gestlab/cutext_results/'"
   ]
  },
  {
   "cell_type": "code",
   "execution_count": 4,
   "metadata": {},
   "outputs": [],
   "source": [
    "l_textos = []\n",
    "for file in textos:\n",
    "    l_textos.append(os.path.join(textos_p, file))\n",
    "    \n",
    "l_cutext = []\n",
    "for file in cutext:\n",
    "    l_cutext.append(os.path.join(cutext_p, file))"
   ]
  },
  {
   "cell_type": "code",
   "execution_count": 5,
   "metadata": {},
   "outputs": [
    {
     "data": {
      "text/plain": [
       "True"
      ]
     },
     "execution_count": 5,
     "metadata": {},
     "output_type": "execute_result"
    }
   ],
   "source": [
    "len(textos) == len(cutext)"
   ]
  },
  {
   "cell_type": "code",
   "execution_count": 3,
   "metadata": {},
   "outputs": [],
   "source": [
    "def extractWords(path_to_dict, infile_raw_text, infile_cutext, path_to_words):\n",
    "    \n",
    "    # - LOOKUP -\n",
    "    \n",
    "    # load gattezeer in lowercase to match words in text and cutext results\n",
    "    with codecs.open(path_to_dict, 'r', 'utf-8') as f:\n",
    "        items = f.readlines()\n",
    "    items_cleaned = []\n",
    "    for item in items:\n",
    "        items_cleaned.append(item.replace('\\n','').lower())\n",
    "    del(items)\n",
    "    f.closed\n",
    "    \n",
    "    # load the infile in lowercase\n",
    "    with open(infile_raw_text, 'r') as f:\n",
    "        lines = f.readlines()\n",
    "        text = []\n",
    "        for line in lines:\n",
    "            #text.append(line.replace('\\n',''))\n",
    "            text.append(line.replace('\\n','').lower())\n",
    "        text = list(set(text))\n",
    "    f.closed\n",
    "    \n",
    "    # obtain common words with gattezeer\n",
    "    mapped_sentences = []\n",
    "    for sentence in text:\n",
    "        found = []\n",
    "        for item in items_cleaned:\n",
    "            # check if concept is inside the sentence\n",
    "            if item in sentence:\n",
    "                found.append(item)  \n",
    "                \n",
    "        mapped_sentences.append(found)\n",
    "    \n",
    "    # list compacted to be returned\n",
    "    flat = list(itertools.chain.from_iterable(mapped_sentences))\n",
    "    flat = list(set(flat))\n",
    "    \n",
    "    # - CUTEXT -\n",
    "    \n",
    "    # obtain terms. Might be extracted terms with frecuency 1 (probability of losing information)\n",
    "    with open(infile_cutext, 'r') as f:\n",
    "        lines = f.readlines()\n",
    "        concepts = []\n",
    "        for line in lines:\n",
    "            if line.startswith('Term'):\n",
    "                concepts.append(line.replace('\\n', '').split(': ')[1])\n",
    "    f.closed\n",
    "                    \n",
    "    # - MERGE -\n",
    "    \n",
    "    # merge both lists to find common vocabulary\n",
    "    merge = [word for word in flat if word in concepts]\n",
    "    merge = list(set(merge))\n",
    "    \n",
    "    # write the merge results into folder selected\n",
    "    outfile = str(infile_raw_text.split('/')[-1])\n",
    "    with open(path_to_words+outfile, 'w') as w:\n",
    "        w.write('\\n'.join(merge))\n",
    "    w.closed"
   ]
  },
  {
   "cell_type": "code",
   "execution_count": 8,
   "metadata": {},
   "outputs": [],
   "source": [
    "# Haciendo un diccionario de conceptos médicos para hacer una limpieza posterior si fuera necesario: my_dict.txt"
   ]
  },
  {
   "cell_type": "code",
   "execution_count": 4,
   "metadata": {},
   "outputs": [],
   "source": [
    "#18NR09269\n",
    "inf_t1 = '/Users/jmiguel/Resultados_gestlab/txt_folder/textos/18NR09269.txt'\n",
    "inf_c1 = '/Users/jmiguel/Resultados_gestlab/cutext_results/18NR09269.txt'\n",
    "results1 = extractWords(path_to_dict=megadict, infile_raw_text=inf_t1, infile_cutext=inf_c1, path_to_words=extracted)"
   ]
  },
  {
   "cell_type": "code",
   "execution_count": 5,
   "metadata": {},
   "outputs": [],
   "source": [
    "#18NR09464\n",
    "inf_t2 = '/Users/jmiguel/Resultados_gestlab/txt_folder/textos/18NR09464.txt'\n",
    "inf_c2 = '/Users/jmiguel/Resultados_gestlab/cutext_results/18NR09464.txt'\n",
    "results2 = extractWords(path_to_dict=megadict, infile_raw_text=inf_t2, infile_cutext=inf_c2, path_to_words=extracted)"
   ]
  },
  {
   "cell_type": "code",
   "execution_count": 6,
   "metadata": {},
   "outputs": [],
   "source": [
    "#18NR09465\n",
    "inf_t3 = '/Users/jmiguel/Resultados_gestlab/txt_folder/textos/18NR09465.txt'\n",
    "inf_c3 = '/Users/jmiguel/Resultados_gestlab/cutext_results/18NR09465.txt'\n",
    "results3 = extractWords(path_to_dict=megadict, infile_raw_text=inf_t3, infile_cutext=inf_c3, path_to_words=extracted)"
   ]
  },
  {
   "cell_type": "code",
   "execution_count": 4,
   "metadata": {},
   "outputs": [],
   "source": [
    "#18NR09200\n",
    "inf_t4 = '/Users/jmiguel/Resultados_gestlab/txt_folder/textos/18NR09200.txt'\n",
    "inf_c4 = '/Users/jmiguel/Resultados_gestlab/cutext_results/18NR09200.txt'\n",
    "results4 = extractWords(path_to_dict=megadict, infile_raw_text=inf_t4, infile_cutext=inf_c4, path_to_words=extracted)"
   ]
  },
  {
   "cell_type": "code",
   "execution_count": 5,
   "metadata": {},
   "outputs": [],
   "source": [
    "#18NR09201\n",
    "inf_t5 = '/Users/jmiguel/Resultados_gestlab/txt_folder/textos/18NR09201.txt'\n",
    "inf_c5 = '/Users/jmiguel/Resultados_gestlab/cutext_results/18NR09201.txt'\n",
    "results4 = extractWords(path_to_dict=megadict, infile_raw_text=inf_t5, infile_cutext=inf_c5, path_to_words=extracted)"
   ]
  },
  {
   "cell_type": "code",
   "execution_count": 6,
   "metadata": {},
   "outputs": [],
   "source": [
    "#18NR09430\n",
    "inf_t6 = '/Users/jmiguel/Resultados_gestlab/txt_folder/textos/18NR09430.txt'\n",
    "inf_c6 = '/Users/jmiguel/Resultados_gestlab/cutext_results/18NR09430.txt'\n",
    "results6 = extractWords(path_to_dict=megadict, infile_raw_text=inf_t6, infile_cutext=inf_c6, path_to_words=extracted)"
   ]
  },
  {
   "cell_type": "code",
   "execution_count": 7,
   "metadata": {},
   "outputs": [],
   "source": [
    "#18NR09525\n",
    "inf_t7 = '/Users/jmiguel/Resultados_gestlab/txt_folder/textos/18NR09525.txt'\n",
    "inf_c7 = '/Users/jmiguel/Resultados_gestlab/cutext_results/18NR09525.txt'\n",
    "results7 = extractWords(path_to_dict=megadict, infile_raw_text=inf_t7, infile_cutext=inf_c7, path_to_words=extracted)"
   ]
  },
  {
   "cell_type": "code",
   "execution_count": 9,
   "metadata": {},
   "outputs": [],
   "source": [
    "#18NR07985\n",
    "inf_t8 = '/Users/jmiguel/Resultados_gestlab/txt_folder/textos/18NR07985.txt'\n",
    "inf_c8 = '/Users/jmiguel/Resultados_gestlab/cutext_results/18NR07985.txt'\n",
    "results8 = extractWords(path_to_dict=megadict, infile_raw_text=inf_t8, infile_cutext=inf_c8, path_to_words=extracted)"
   ]
  },
  {
   "cell_type": "code",
   "execution_count": 10,
   "metadata": {},
   "outputs": [],
   "source": [
    "#18NR08006\n",
    "inf_t9 = '/Users/jmiguel/Resultados_gestlab/txt_folder/textos/18NR08006.txt'\n",
    "inf_c9 = '/Users/jmiguel/Resultados_gestlab/cutext_results/18NR08006.txt'\n",
    "results9 = extractWords(path_to_dict=megadict, infile_raw_text=inf_t9, infile_cutext=inf_c9, path_to_words=extracted)"
   ]
  },
  {
   "cell_type": "code",
   "execution_count": 11,
   "metadata": {},
   "outputs": [],
   "source": [
    "#18NR8017\n",
    "inf_t10 = '/Users/jmiguel/Resultados_gestlab/txt_folder/textos/18NR8017.txt'\n",
    "inf_c10 = '/Users/jmiguel/Resultados_gestlab/cutext_results/18NR8017.txt'\n",
    "results10 = extractWords(path_to_dict=megadict, infile_raw_text=inf_t10, infile_cutext=inf_c10, path_to_words=extracted)"
   ]
  },
  {
   "cell_type": "code",
   "execution_count": 14,
   "metadata": {},
   "outputs": [],
   "source": [
    "#18NR08048\n",
    "inf_t11 = '/Users/jmiguel/Resultados_gestlab/txt_folder/textos/18NR08048.txt'\n",
    "inf_c11 = '/Users/jmiguel/Resultados_gestlab/cutext_results/18NR08048.txt'\n",
    "results11 = extractWords(path_to_dict=megadict, infile_raw_text=inf_t11, infile_cutext=inf_c11, path_to_words=extracted)"
   ]
  },
  {
   "cell_type": "code",
   "execution_count": 17,
   "metadata": {},
   "outputs": [],
   "source": [
    "#18NR08073\n",
    "inf_t12 = '/Users/jmiguel/Resultados_gestlab/txt_folder/textos/18NR08073.txt'\n",
    "inf_c12 = '/Users/jmiguel/Resultados_gestlab/cutext_results/18NR08073.txt'\n",
    "results12 = extractWords(path_to_dict=megadict, infile_raw_text=inf_t12, infile_cutext=inf_c12, path_to_words=extracted)"
   ]
  },
  {
   "cell_type": "code",
   "execution_count": 18,
   "metadata": {},
   "outputs": [],
   "source": [
    "#18NR08134\n",
    "inf_t13 = '/Users/jmiguel/Resultados_gestlab/txt_folder/textos/18NR08134.txt'\n",
    "inf_c13 = '/Users/jmiguel/Resultados_gestlab/cutext_results/18NR08134.txt'\n",
    "results13 = extractWords(path_to_dict=megadict, infile_raw_text=inf_t13, infile_cutext=inf_c13, path_to_words=extracted)"
   ]
  },
  {
   "cell_type": "code",
   "execution_count": 19,
   "metadata": {},
   "outputs": [],
   "source": [
    "#18NR08178\n",
    "inf_t14 = '/Users/jmiguel/Resultados_gestlab/txt_folder/textos/18NR08178.txt'\n",
    "inf_c14 = '/Users/jmiguel/Resultados_gestlab/cutext_results/18NR08178.txt'\n",
    "results14 = extractWords(path_to_dict=megadict, infile_raw_text=inf_t14, infile_cutext=inf_c14, path_to_words=extracted)"
   ]
  }
 ],
 "metadata": {
  "kernelspec": {
   "display_name": "Python 3",
   "language": "python",
   "name": "python3"
  },
  "language_info": {
   "codemirror_mode": {
    "name": "ipython",
    "version": 3
   },
   "file_extension": ".py",
   "mimetype": "text/x-python",
   "name": "python",
   "nbconvert_exporter": "python",
   "pygments_lexer": "ipython3",
   "version": "3.7.0"
  }
 },
 "nbformat": 4,
 "nbformat_minor": 2
}
